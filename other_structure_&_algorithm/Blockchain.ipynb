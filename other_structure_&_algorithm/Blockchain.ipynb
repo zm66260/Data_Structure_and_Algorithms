{
 "cells": [
  {
   "cell_type": "code",
   "execution_count": 1,
   "metadata": {
    "collapsed": true
   },
   "outputs": [],
   "source": [
    "import hashlib\n",
    "\n",
    "class Block:\n",
    "\n",
    "    def __init__(self, timestamp, data, previous_hash=0):\n",
    "        self.timestamp = timestamp\n",
    "        self.data = data\n",
    "        self.previous_hash = previous_hash\n",
    "        self.hash = self.calc_hash(data)\n",
    "        \n",
    "    def calc_hash(self, data):\n",
    "        sha = hashlib.sha256()\n",
    "        hash_str = data.encode('utf-8')\n",
    "        sha.update(hash_str)\n",
    "        return sha.hexdigest()  \n",
    "    \n",
    "        "
   ]
  },
  {
   "cell_type": "code",
   "execution_count": 10,
   "metadata": {
    "collapsed": true
   },
   "outputs": [],
   "source": [
    "import time\n",
    "\n",
    "t1 = time.strftime(\"%Y - %m - %d %H: %M: %S\", time.localtime())\n",
    "t2 = time.strftime(\"%Y - %m - %d %H: %M: %S\", time.localtime())\n",
    "t3 = time.strftime(\"%Y - %m - %d %H: %M: %S\", time.localtime())\n",
    "\n",
    "info1 = \"I am a chain block\"\n",
    "info2 = \"I have three blocks\"\n",
    "info3 = \"List is my friend\"\n",
    "\n",
    "block1 = Block(t1, info1)\n",
    "block2 = Block(t2, info2, block1.hash)\n",
    "block3 = Block(t3, info3, block2.hash)"
   ]
  },
  {
   "cell_type": "code",
   "execution_count": 11,
   "metadata": {},
   "outputs": [
    {
     "name": "stdout",
     "output_type": "stream",
     "text": [
      "('2019 - 08 - 27 08: 13: 41', 'I am a chain block', 0, 'dbfc81412d5d7cced02d98043d79e5128a228c3185ad8125712fa33599e53956')\n",
      "('2019 - 08 - 27 08: 13: 41', 'I have three blocks', 'dbfc81412d5d7cced02d98043d79e5128a228c3185ad8125712fa33599e53956', 'cc8051e700507b9c0c197cf0b0d85118608744d6af130d76271871421c6fd521')\n",
      "('2019 - 08 - 27 08: 13: 41', 'List is my friend', 'cc8051e700507b9c0c197cf0b0d85118608744d6af130d76271871421c6fd521', '9d5808b1a258e945dd359b2bc7434e4a1084e226a0e9b0229c063d465e39220a')\n"
     ]
    }
   ],
   "source": [
    "print(block1.timestamp, block1.data, block1.previous_hash, block1.hash)\n",
    "print(block2.timestamp, block2.data, block2.previous_hash, block2.hash)\n",
    "print(block3.timestamp, block3.data, block3.previous_hash, block3.hash)"
   ]
  },
  {
   "cell_type": "code",
   "execution_count": null,
   "metadata": {
    "collapsed": true
   },
   "outputs": [],
   "source": [
    "Since the linked list is employed, the complexity of search is O(n). The time complexity of insert, delete and append is O(1)."
   ]
  }
 ],
 "metadata": {
  "kernelspec": {
   "display_name": "Python [default]",
   "language": "python",
   "name": "python2"
  },
  "language_info": {
   "codemirror_mode": {
    "name": "ipython",
    "version": 2
   },
   "file_extension": ".py",
   "mimetype": "text/x-python",
   "name": "python",
   "nbconvert_exporter": "python",
   "pygments_lexer": "ipython2",
   "version": "2.7.13"
  }
 },
 "nbformat": 4,
 "nbformat_minor": 2
}
